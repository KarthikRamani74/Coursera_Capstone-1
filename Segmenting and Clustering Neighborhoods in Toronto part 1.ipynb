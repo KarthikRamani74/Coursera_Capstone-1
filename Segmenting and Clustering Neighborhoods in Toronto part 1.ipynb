{
    "nbformat_minor": 1, 
    "cells": [
        {
            "source": "Capstone Project", 
            "cell_type": "markdown", 
            "metadata": {}
        }, 
        {
            "source": "Imports all packages", 
            "cell_type": "markdown", 
            "metadata": {}
        }, 
        {
            "execution_count": 17, 
            "cell_type": "code", 
            "metadata": {}, 
            "outputs": [], 
            "source": "import pandas as pd\nimport numpy as np\nfrom bs4 import BeautifulSoup\nimport requests"
        }, 
        {
            "execution_count": 22, 
            "cell_type": "code", 
            "metadata": {}, 
            "outputs": [], 
            "source": "source = requests.get('https://en.wikipedia.org/wiki/List_of_postal_codes_of_Canada:_M').text\nsoup = BeautifulSoup(source,'lxml')"
        }, 
        {
            "source": "Create a class with functions to parse data from the website into a dataframe", 
            "cell_type": "markdown", 
            "metadata": {}
        }, 
        {
            "execution_count": 32, 
            "cell_type": "code", 
            "metadata": {}, 
            "outputs": [], 
            "source": "class TabelParser:\n\n    def parse_url(self,url):\n        response = requests.get(url)\n        soup = BeautifulSoup(response.text,'lxml')\n        return [(self.parse_table(table))\\\n                    for table in soup.find_all('table', class_=\"wikitable sortable\")]\n    def parse_table(self,table):\n        n_rows = 0 \n        n_columns = 0\n        column_name = []\n        \n        for row in table.find_all('tr'):\n            td_tags = row.find_all('td')\n            \n            if len(td_tags) > 0:\n                n_rows += 1\n                \n                if n_columns == 0:\n                    n_columns = len(td_tags)\n                    \n            th_tags = row.find_all('th')\n            if len(th_tags) > 0 and len(column_name) == 0:\n                for th in th_tags:\n                    column_name.append(th.get_text())\n        \n        if len(column_name) > 0 and len(column_name) != n_columns:\n            raise Exception(\"Headers do not match the number of columns\")\n            \n        columns = column_name if len(column_name) > 0 else range(0,n_columns)\n        df = pd.DataFrame(columns=columns,index = range(0,n_rows))\n        \n        row_index = 0\n        for row in table.find_all('tr'):\n            column_index = 0\n            columns = row.find_all('td')\n            for column in columns:\n                df.iat[row_index,column_index] = column.get_text()\n                column_index += 1\n            if len(columns) > 0:\n                row_index += 1\n                \n        for col in df:\n            try:\n                df[col] = df[col].astype(float)\n            except ValueError:\n                pass\n            \n        return df"
        }, 
        {
            "execution_count": 33, 
            "cell_type": "code", 
            "metadata": {}, 
            "outputs": [
                {
                    "execution_count": 33, 
                    "metadata": {}, 
                    "data": {
                        "text/html": "<div>\n<style scoped>\n    .dataframe tbody tr th:only-of-type {\n        vertical-align: middle;\n    }\n\n    .dataframe tbody tr th {\n        vertical-align: top;\n    }\n\n    .dataframe thead th {\n        text-align: right;\n    }\n</style>\n<table border=\"1\" class=\"dataframe\">\n  <thead>\n    <tr style=\"text-align: right;\">\n      <th></th>\n      <th>Postcode</th>\n      <th>Borough</th>\n      <th>Neighbourhood</th>\n    </tr>\n  </thead>\n  <tbody>\n    <tr>\n      <th>0</th>\n      <td>M1A</td>\n      <td>Not assigned</td>\n      <td>Not assigned\\n</td>\n    </tr>\n    <tr>\n      <th>1</th>\n      <td>M2A</td>\n      <td>Not assigned</td>\n      <td>Not assigned\\n</td>\n    </tr>\n    <tr>\n      <th>2</th>\n      <td>M3A</td>\n      <td>North York</td>\n      <td>Parkwoods\\n</td>\n    </tr>\n    <tr>\n      <th>3</th>\n      <td>M4A</td>\n      <td>North York</td>\n      <td>Victoria Village\\n</td>\n    </tr>\n    <tr>\n      <th>4</th>\n      <td>M5A</td>\n      <td>Downtown Toronto</td>\n      <td>Harbourfront\\n</td>\n    </tr>\n    <tr>\n      <th>5</th>\n      <td>M5A</td>\n      <td>Downtown Toronto</td>\n      <td>Regent Park\\n</td>\n    </tr>\n    <tr>\n      <th>6</th>\n      <td>M6A</td>\n      <td>North York</td>\n      <td>Lawrence Heights\\n</td>\n    </tr>\n    <tr>\n      <th>7</th>\n      <td>M6A</td>\n      <td>North York</td>\n      <td>Lawrence Manor\\n</td>\n    </tr>\n    <tr>\n      <th>8</th>\n      <td>M7A</td>\n      <td>Queen's Park</td>\n      <td>Not assigned\\n</td>\n    </tr>\n    <tr>\n      <th>9</th>\n      <td>M8A</td>\n      <td>Not assigned</td>\n      <td>Not assigned\\n</td>\n    </tr>\n  </tbody>\n</table>\n</div>", 
                        "text/plain": "  Postcode           Borough     Neighbourhood\\n\n0      M1A      Not assigned      Not assigned\\n\n1      M2A      Not assigned      Not assigned\\n\n2      M3A        North York         Parkwoods\\n\n3      M4A        North York  Victoria Village\\n\n4      M5A  Downtown Toronto      Harbourfront\\n\n5      M5A  Downtown Toronto       Regent Park\\n\n6      M6A        North York  Lawrence Heights\\n\n7      M6A        North York    Lawrence Manor\\n\n8      M7A      Queen's Park      Not assigned\\n\n9      M8A      Not assigned      Not assigned\\n"
                    }, 
                    "output_type": "execute_result"
                }
            ], 
            "source": "url = 'https://en.wikipedia.org/wiki/List_of_postal_codes_of_Canada:_M'\ntp = TabelParser()\ndf = tp.parse_url(url)[0]\ndf.head(10)"
        }, 
        {
            "execution_count": 34, 
            "cell_type": "code", 
            "metadata": {}, 
            "outputs": [], 
            "source": "a = df.copy()"
        }, 
        {
            "execution_count": 35, 
            "cell_type": "code", 
            "metadata": {}, 
            "outputs": [], 
            "source": "a = a[a.Borough != 'Not assigned']"
        }, 
        {
            "execution_count": 36, 
            "cell_type": "code", 
            "metadata": {}, 
            "outputs": [
                {
                    "execution_count": 36, 
                    "metadata": {}, 
                    "data": {
                        "text/html": "<div>\n<style scoped>\n    .dataframe tbody tr th:only-of-type {\n        vertical-align: middle;\n    }\n\n    .dataframe tbody tr th {\n        vertical-align: top;\n    }\n\n    .dataframe thead th {\n        text-align: right;\n    }\n</style>\n<table border=\"1\" class=\"dataframe\">\n  <thead>\n    <tr style=\"text-align: right;\">\n      <th></th>\n      <th>Postcode</th>\n      <th>Borough</th>\n      <th>Neighbourhood</th>\n    </tr>\n  </thead>\n  <tbody>\n    <tr>\n      <th>2</th>\n      <td>M3A</td>\n      <td>North York</td>\n      <td>Parkwoods\\n</td>\n    </tr>\n    <tr>\n      <th>3</th>\n      <td>M4A</td>\n      <td>North York</td>\n      <td>Victoria Village\\n</td>\n    </tr>\n    <tr>\n      <th>4</th>\n      <td>M5A</td>\n      <td>Downtown Toronto</td>\n      <td>Harbourfront\\n</td>\n    </tr>\n    <tr>\n      <th>5</th>\n      <td>M5A</td>\n      <td>Downtown Toronto</td>\n      <td>Regent Park\\n</td>\n    </tr>\n    <tr>\n      <th>6</th>\n      <td>M6A</td>\n      <td>North York</td>\n      <td>Lawrence Heights\\n</td>\n    </tr>\n  </tbody>\n</table>\n</div>", 
                        "text/plain": "  Postcode           Borough     Neighbourhood\\n\n2      M3A        North York         Parkwoods\\n\n3      M4A        North York  Victoria Village\\n\n4      M5A  Downtown Toronto      Harbourfront\\n\n5      M5A  Downtown Toronto       Regent Park\\n\n6      M6A        North York  Lawrence Heights\\n"
                    }, 
                    "output_type": "execute_result"
                }
            ], 
            "source": "a.head()"
        }, 
        {
            "execution_count": null, 
            "cell_type": "code", 
            "metadata": {}, 
            "outputs": [], 
            "source": "Clean data, remove all the 'Not assigned'"
        }, 
        {
            "execution_count": 45, 
            "cell_type": "code", 
            "metadata": {}, 
            "outputs": [], 
            "source": "a = a.reset_index().drop(['index'],axis=1)\na = a.replace('\\n','',regex=True)"
        }, 
        {
            "execution_count": 46, 
            "cell_type": "code", 
            "metadata": {
                "scrolled": true
            }, 
            "outputs": [
                {
                    "execution_count": 46, 
                    "metadata": {}, 
                    "data": {
                        "text/html": "<div>\n<style scoped>\n    .dataframe tbody tr th:only-of-type {\n        vertical-align: middle;\n    }\n\n    .dataframe tbody tr th {\n        vertical-align: top;\n    }\n\n    .dataframe thead th {\n        text-align: right;\n    }\n</style>\n<table border=\"1\" class=\"dataframe\">\n  <thead>\n    <tr style=\"text-align: right;\">\n      <th></th>\n      <th>Postcode</th>\n      <th>Borough</th>\n      <th>Neighbourhood</th>\n    </tr>\n  </thead>\n  <tbody>\n    <tr>\n      <th>0</th>\n      <td>M3A</td>\n      <td>North York</td>\n      <td>Parkwoods</td>\n    </tr>\n    <tr>\n      <th>1</th>\n      <td>M4A</td>\n      <td>North York</td>\n      <td>Victoria Village</td>\n    </tr>\n    <tr>\n      <th>2</th>\n      <td>M5A</td>\n      <td>Downtown Toronto</td>\n      <td>Harbourfront</td>\n    </tr>\n    <tr>\n      <th>3</th>\n      <td>M5A</td>\n      <td>Downtown Toronto</td>\n      <td>Regent Park</td>\n    </tr>\n    <tr>\n      <th>4</th>\n      <td>M6A</td>\n      <td>North York</td>\n      <td>Lawrence Heights</td>\n    </tr>\n  </tbody>\n</table>\n</div>", 
                        "text/plain": "  Postcode           Borough    Neighbourhood\\n\n0      M3A        North York         Parkwoods \n1      M4A        North York  Victoria Village \n2      M5A  Downtown Toronto      Harbourfront \n3      M5A  Downtown Toronto       Regent Park \n4      M6A        North York  Lawrence Heights "
                    }, 
                    "output_type": "execute_result"
                }
            ], 
            "source": "a.head()"
        }, 
        {
            "execution_count": 52, 
            "cell_type": "code", 
            "metadata": {}, 
            "outputs": [], 
            "source": "a.rename(columns={'Neighbourhood\\n':'Neighbourhood'},inplace=True)"
        }, 
        {
            "execution_count": 67, 
            "cell_type": "code", 
            "metadata": {}, 
            "outputs": [], 
            "source": "a.Neighbourhood[a.Neighbourhood=='Not assigned '] = a.Borough"
        }, 
        {
            "execution_count": 69, 
            "cell_type": "code", 
            "metadata": {}, 
            "outputs": [
                {
                    "execution_count": 69, 
                    "metadata": {}, 
                    "data": {
                        "text/html": "<div>\n<style scoped>\n    .dataframe tbody tr th:only-of-type {\n        vertical-align: middle;\n    }\n\n    .dataframe tbody tr th {\n        vertical-align: top;\n    }\n\n    .dataframe thead th {\n        text-align: right;\n    }\n</style>\n<table border=\"1\" class=\"dataframe\">\n  <thead>\n    <tr style=\"text-align: right;\">\n      <th></th>\n      <th>Postcode</th>\n      <th>Borough</th>\n      <th>Neighbourhood</th>\n    </tr>\n  </thead>\n  <tbody>\n    <tr>\n      <th>0</th>\n      <td>M3A</td>\n      <td>North York</td>\n      <td>Parkwoods</td>\n    </tr>\n    <tr>\n      <th>1</th>\n      <td>M4A</td>\n      <td>North York</td>\n      <td>Victoria Village</td>\n    </tr>\n    <tr>\n      <th>2</th>\n      <td>M5A</td>\n      <td>Downtown Toronto</td>\n      <td>Harbourfront</td>\n    </tr>\n    <tr>\n      <th>3</th>\n      <td>M5A</td>\n      <td>Downtown Toronto</td>\n      <td>Regent Park</td>\n    </tr>\n    <tr>\n      <th>4</th>\n      <td>M6A</td>\n      <td>North York</td>\n      <td>Lawrence Heights</td>\n    </tr>\n    <tr>\n      <th>5</th>\n      <td>M6A</td>\n      <td>North York</td>\n      <td>Lawrence Manor</td>\n    </tr>\n    <tr>\n      <th>6</th>\n      <td>M7A</td>\n      <td>Queen's Park</td>\n      <td>Queen's Park</td>\n    </tr>\n    <tr>\n      <th>7</th>\n      <td>M9A</td>\n      <td>Etobicoke</td>\n      <td>Islington Avenue</td>\n    </tr>\n    <tr>\n      <th>8</th>\n      <td>M1B</td>\n      <td>Scarborough</td>\n      <td>Rouge</td>\n    </tr>\n    <tr>\n      <th>9</th>\n      <td>M1B</td>\n      <td>Scarborough</td>\n      <td>Malvern</td>\n    </tr>\n  </tbody>\n</table>\n</div>", 
                        "text/plain": "  Postcode           Borough      Neighbourhood\n0      M3A        North York         Parkwoods \n1      M4A        North York  Victoria Village \n2      M5A  Downtown Toronto      Harbourfront \n3      M5A  Downtown Toronto       Regent Park \n4      M6A        North York  Lawrence Heights \n5      M6A        North York    Lawrence Manor \n6      M7A      Queen's Park       Queen's Park\n7      M9A         Etobicoke  Islington Avenue \n8      M1B       Scarborough             Rouge \n9      M1B       Scarborough           Malvern "
                    }, 
                    "output_type": "execute_result"
                }
            ], 
            "source": "a.head(10)"
        }, 
        {
            "execution_count": 80, 
            "cell_type": "code", 
            "metadata": {}, 
            "outputs": [
                {
                    "execution_count": 80, 
                    "metadata": {}, 
                    "data": {
                        "text/html": "<div>\n<style scoped>\n    .dataframe tbody tr th:only-of-type {\n        vertical-align: middle;\n    }\n\n    .dataframe tbody tr th {\n        vertical-align: top;\n    }\n\n    .dataframe thead th {\n        text-align: right;\n    }\n</style>\n<table border=\"1\" class=\"dataframe\">\n  <thead>\n    <tr style=\"text-align: right;\">\n      <th></th>\n      <th>Postcode</th>\n      <th>Borough</th>\n      <th>Neighbourhood</th>\n    </tr>\n  </thead>\n  <tbody>\n    <tr>\n      <th>0</th>\n      <td>M4A</td>\n      <td>North York</td>\n      <td>Victoria Village</td>\n    </tr>\n    <tr>\n      <th>1</th>\n      <td>M4Y</td>\n      <td>Downtown Toronto</td>\n      <td>Church and Wellesley</td>\n    </tr>\n    <tr>\n      <th>2</th>\n      <td>M2J</td>\n      <td>North York</td>\n      <td>Fairview , Henry Farm , Oriole</td>\n    </tr>\n    <tr>\n      <th>3</th>\n      <td>M1C</td>\n      <td>Scarborough</td>\n      <td>Highland Creek , Rouge Hill , Port Union</td>\n    </tr>\n    <tr>\n      <th>4</th>\n      <td>M7Y</td>\n      <td>East Toronto</td>\n      <td>Business reply mail Processing Centre969 Eastern</td>\n    </tr>\n    <tr>\n      <th>5</th>\n      <td>M1L</td>\n      <td>Scarborough</td>\n      <td>Clairlea , Golden Mile , Oakridge</td>\n    </tr>\n    <tr>\n      <th>6</th>\n      <td>M5N</td>\n      <td>Central Toronto</td>\n      <td>Roselawn</td>\n    </tr>\n    <tr>\n      <th>7</th>\n      <td>M6K</td>\n      <td>West Toronto</td>\n      <td>Brockton , Exhibition Place , Parkdale Village</td>\n    </tr>\n    <tr>\n      <th>8</th>\n      <td>M6G</td>\n      <td>Downtown Toronto</td>\n      <td>Christie</td>\n    </tr>\n    <tr>\n      <th>9</th>\n      <td>M6N</td>\n      <td>York</td>\n      <td>The Junction North , Runnymede</td>\n    </tr>\n  </tbody>\n</table>\n</div>", 
                        "text/plain": "  Postcode           Borough  \\\n0      M4A        North York   \n1      M4Y  Downtown Toronto   \n2      M2J        North York   \n3      M1C       Scarborough   \n4      M7Y      East Toronto   \n5      M1L       Scarborough   \n6      M5N   Central Toronto   \n7      M6K      West Toronto   \n8      M6G  Downtown Toronto   \n9      M6N              York   \n\n                                       Neighbourhood  \n0                                  Victoria Village   \n1                              Church and Wellesley   \n2                    Fairview , Henry Farm , Oriole   \n3          Highland Creek , Rouge Hill , Port Union   \n4  Business reply mail Processing Centre969 Eastern   \n5                 Clairlea , Golden Mile , Oakridge   \n6                                          Roselawn   \n7    Brockton , Exhibition Place , Parkdale Village   \n8                                          Christie   \n9                    The Junction North , Runnymede   "
                    }, 
                    "output_type": "execute_result"
                }
            ], 
            "source": "df_full = a.groupby(['Postcode','Borough'])['Neighbourhood'].apply(lambda x: \", \".join(x.astype(str))).reset_index()\ndf_full = df_full.sample(frac=1).reset_index(drop=True)\ndf_full.head(10)"
        }, 
        {
            "execution_count": 81, 
            "cell_type": "code", 
            "metadata": {}, 
            "outputs": [
                {
                    "execution_count": 81, 
                    "metadata": {}, 
                    "data": {
                        "text/plain": "(103, 3)"
                    }, 
                    "output_type": "execute_result"
                }
            ], 
            "source": "df_full.shape"
        }, 
        {
            "execution_count": null, 
            "cell_type": "code", 
            "metadata": {}, 
            "outputs": [], 
            "source": ""
        }, 
        {
            "execution_count": null, 
            "cell_type": "code", 
            "metadata": {}, 
            "outputs": [], 
            "source": ""
        }, 
        {
            "execution_count": 72, 
            "cell_type": "code", 
            "metadata": {}, 
            "outputs": [], 
            "source": "url = 'http://cocl.us/Geospatial_data'\nlatlong = pd.read_csv(url)"
        }, 
        {
            "execution_count": 73, 
            "cell_type": "code", 
            "metadata": {}, 
            "outputs": [
                {
                    "execution_count": 73, 
                    "metadata": {}, 
                    "data": {
                        "text/html": "<div>\n<style scoped>\n    .dataframe tbody tr th:only-of-type {\n        vertical-align: middle;\n    }\n\n    .dataframe tbody tr th {\n        vertical-align: top;\n    }\n\n    .dataframe thead th {\n        text-align: right;\n    }\n</style>\n<table border=\"1\" class=\"dataframe\">\n  <thead>\n    <tr style=\"text-align: right;\">\n      <th></th>\n      <th>Postal Code</th>\n      <th>Latitude</th>\n      <th>Longitude</th>\n    </tr>\n  </thead>\n  <tbody>\n    <tr>\n      <th>0</th>\n      <td>M1B</td>\n      <td>43.806686</td>\n      <td>-79.194353</td>\n    </tr>\n    <tr>\n      <th>1</th>\n      <td>M1C</td>\n      <td>43.784535</td>\n      <td>-79.160497</td>\n    </tr>\n    <tr>\n      <th>2</th>\n      <td>M1E</td>\n      <td>43.763573</td>\n      <td>-79.188711</td>\n    </tr>\n    <tr>\n      <th>3</th>\n      <td>M1G</td>\n      <td>43.770992</td>\n      <td>-79.216917</td>\n    </tr>\n    <tr>\n      <th>4</th>\n      <td>M1H</td>\n      <td>43.773136</td>\n      <td>-79.239476</td>\n    </tr>\n  </tbody>\n</table>\n</div>", 
                        "text/plain": "  Postal Code   Latitude  Longitude\n0         M1B  43.806686 -79.194353\n1         M1C  43.784535 -79.160497\n2         M1E  43.763573 -79.188711\n3         M1G  43.770992 -79.216917\n4         M1H  43.773136 -79.239476"
                    }, 
                    "output_type": "execute_result"
                }
            ], 
            "source": "latlong.head()"
        }, 
        {
            "execution_count": 75, 
            "cell_type": "code", 
            "metadata": {}, 
            "outputs": [], 
            "source": "latlong.rename(columns={'Postal Code':'Postcode'},inplace=True)"
        }, 
        {
            "execution_count": 82, 
            "cell_type": "code", 
            "metadata": {}, 
            "outputs": [
                {
                    "execution_count": 82, 
                    "metadata": {}, 
                    "data": {
                        "text/html": "<div>\n<style scoped>\n    .dataframe tbody tr th:only-of-type {\n        vertical-align: middle;\n    }\n\n    .dataframe tbody tr th {\n        vertical-align: top;\n    }\n\n    .dataframe thead th {\n        text-align: right;\n    }\n</style>\n<table border=\"1\" class=\"dataframe\">\n  <thead>\n    <tr style=\"text-align: right;\">\n      <th></th>\n      <th>Postcode</th>\n      <th>Latitude</th>\n      <th>Longitude</th>\n    </tr>\n  </thead>\n  <tbody>\n    <tr>\n      <th>0</th>\n      <td>M1B</td>\n      <td>43.806686</td>\n      <td>-79.194353</td>\n    </tr>\n    <tr>\n      <th>1</th>\n      <td>M1C</td>\n      <td>43.784535</td>\n      <td>-79.160497</td>\n    </tr>\n    <tr>\n      <th>2</th>\n      <td>M1E</td>\n      <td>43.763573</td>\n      <td>-79.188711</td>\n    </tr>\n    <tr>\n      <th>3</th>\n      <td>M1G</td>\n      <td>43.770992</td>\n      <td>-79.216917</td>\n    </tr>\n    <tr>\n      <th>4</th>\n      <td>M1H</td>\n      <td>43.773136</td>\n      <td>-79.239476</td>\n    </tr>\n  </tbody>\n</table>\n</div>", 
                        "text/plain": "  Postcode   Latitude  Longitude\n0      M1B  43.806686 -79.194353\n1      M1C  43.784535 -79.160497\n2      M1E  43.763573 -79.188711\n3      M1G  43.770992 -79.216917\n4      M1H  43.773136 -79.239476"
                    }, 
                    "output_type": "execute_result"
                }
            ], 
            "source": "latlong.head()"
        }, 
        {
            "execution_count": 83, 
            "cell_type": "code", 
            "metadata": {}, 
            "outputs": [], 
            "source": "df_full = df_full.merge(latlong,on='Postcode')"
        }, 
        {
            "execution_count": 84, 
            "cell_type": "code", 
            "metadata": {}, 
            "outputs": [
                {
                    "execution_count": 84, 
                    "metadata": {}, 
                    "data": {
                        "text/html": "<div>\n<style scoped>\n    .dataframe tbody tr th:only-of-type {\n        vertical-align: middle;\n    }\n\n    .dataframe tbody tr th {\n        vertical-align: top;\n    }\n\n    .dataframe thead th {\n        text-align: right;\n    }\n</style>\n<table border=\"1\" class=\"dataframe\">\n  <thead>\n    <tr style=\"text-align: right;\">\n      <th></th>\n      <th>Postcode</th>\n      <th>Borough</th>\n      <th>Neighbourhood</th>\n      <th>Latitude</th>\n      <th>Longitude</th>\n    </tr>\n  </thead>\n  <tbody>\n    <tr>\n      <th>0</th>\n      <td>M4A</td>\n      <td>North York</td>\n      <td>Victoria Village</td>\n      <td>43.725882</td>\n      <td>-79.315572</td>\n    </tr>\n    <tr>\n      <th>1</th>\n      <td>M4Y</td>\n      <td>Downtown Toronto</td>\n      <td>Church and Wellesley</td>\n      <td>43.665860</td>\n      <td>-79.383160</td>\n    </tr>\n    <tr>\n      <th>2</th>\n      <td>M2J</td>\n      <td>North York</td>\n      <td>Fairview , Henry Farm , Oriole</td>\n      <td>43.778517</td>\n      <td>-79.346556</td>\n    </tr>\n    <tr>\n      <th>3</th>\n      <td>M1C</td>\n      <td>Scarborough</td>\n      <td>Highland Creek , Rouge Hill , Port Union</td>\n      <td>43.784535</td>\n      <td>-79.160497</td>\n    </tr>\n    <tr>\n      <th>4</th>\n      <td>M7Y</td>\n      <td>East Toronto</td>\n      <td>Business reply mail Processing Centre969 Eastern</td>\n      <td>43.662744</td>\n      <td>-79.321558</td>\n    </tr>\n    <tr>\n      <th>5</th>\n      <td>M1L</td>\n      <td>Scarborough</td>\n      <td>Clairlea , Golden Mile , Oakridge</td>\n      <td>43.711112</td>\n      <td>-79.284577</td>\n    </tr>\n    <tr>\n      <th>6</th>\n      <td>M5N</td>\n      <td>Central Toronto</td>\n      <td>Roselawn</td>\n      <td>43.711695</td>\n      <td>-79.416936</td>\n    </tr>\n    <tr>\n      <th>7</th>\n      <td>M6K</td>\n      <td>West Toronto</td>\n      <td>Brockton , Exhibition Place , Parkdale Village</td>\n      <td>43.636847</td>\n      <td>-79.428191</td>\n    </tr>\n    <tr>\n      <th>8</th>\n      <td>M6G</td>\n      <td>Downtown Toronto</td>\n      <td>Christie</td>\n      <td>43.669542</td>\n      <td>-79.422564</td>\n    </tr>\n    <tr>\n      <th>9</th>\n      <td>M6N</td>\n      <td>York</td>\n      <td>The Junction North , Runnymede</td>\n      <td>43.673185</td>\n      <td>-79.487262</td>\n    </tr>\n    <tr>\n      <th>10</th>\n      <td>M4N</td>\n      <td>Central Toronto</td>\n      <td>Lawrence Park</td>\n      <td>43.728020</td>\n      <td>-79.388790</td>\n    </tr>\n    <tr>\n      <th>11</th>\n      <td>M9R</td>\n      <td>Etobicoke</td>\n      <td>Kingsview Village , Martin Grove Gardens , Ric...</td>\n      <td>43.688905</td>\n      <td>-79.554724</td>\n    </tr>\n    <tr>\n      <th>12</th>\n      <td>M4G</td>\n      <td>East York</td>\n      <td>Leaside</td>\n      <td>43.709060</td>\n      <td>-79.363452</td>\n    </tr>\n    <tr>\n      <th>13</th>\n      <td>M6A</td>\n      <td>North York</td>\n      <td>Lawrence Heights , Lawrence Manor</td>\n      <td>43.718518</td>\n      <td>-79.464763</td>\n    </tr>\n    <tr>\n      <th>14</th>\n      <td>M1G</td>\n      <td>Scarborough</td>\n      <td>Woburn</td>\n      <td>43.770992</td>\n      <td>-79.216917</td>\n    </tr>\n    <tr>\n      <th>15</th>\n      <td>M9N</td>\n      <td>York</td>\n      <td>Weston</td>\n      <td>43.706876</td>\n      <td>-79.518188</td>\n    </tr>\n    <tr>\n      <th>16</th>\n      <td>M3H</td>\n      <td>North York</td>\n      <td>Bathurst Manor , Downsview North , Wilson Heig...</td>\n      <td>43.754328</td>\n      <td>-79.442259</td>\n    </tr>\n    <tr>\n      <th>17</th>\n      <td>M5X</td>\n      <td>Downtown Toronto</td>\n      <td>First Canadian Place , Underground city</td>\n      <td>43.648429</td>\n      <td>-79.382280</td>\n    </tr>\n    <tr>\n      <th>18</th>\n      <td>M5K</td>\n      <td>Downtown Toronto</td>\n      <td>Design Exchange , Toronto Dominion Centre</td>\n      <td>43.647177</td>\n      <td>-79.381576</td>\n    </tr>\n    <tr>\n      <th>19</th>\n      <td>M5H</td>\n      <td>Downtown Toronto</td>\n      <td>Adelaide , King , Richmond</td>\n      <td>43.650571</td>\n      <td>-79.384568</td>\n    </tr>\n    <tr>\n      <th>20</th>\n      <td>M8Y</td>\n      <td>Etobicoke</td>\n      <td>Humber Bay , King's Mill Park , Kingsway Park ...</td>\n      <td>43.636258</td>\n      <td>-79.498509</td>\n    </tr>\n    <tr>\n      <th>21</th>\n      <td>M8V</td>\n      <td>Etobicoke</td>\n      <td>Humber Bay Shores , Mimico South , New Toronto</td>\n      <td>43.605647</td>\n      <td>-79.501321</td>\n    </tr>\n    <tr>\n      <th>22</th>\n      <td>M1W</td>\n      <td>Scarborough</td>\n      <td>L'Amoreaux West , Steeles West</td>\n      <td>43.799525</td>\n      <td>-79.318389</td>\n    </tr>\n    <tr>\n      <th>23</th>\n      <td>M1N</td>\n      <td>Scarborough</td>\n      <td>Birch Cliff , Cliffside West</td>\n      <td>43.692657</td>\n      <td>-79.264848</td>\n    </tr>\n    <tr>\n      <th>24</th>\n      <td>M1M</td>\n      <td>Scarborough</td>\n      <td>Cliffcrest , Cliffside , Scarborough Village W...</td>\n      <td>43.716316</td>\n      <td>-79.239476</td>\n    </tr>\n    <tr>\n      <th>25</th>\n      <td>M1H</td>\n      <td>Scarborough</td>\n      <td>Cedarbrae</td>\n      <td>43.773136</td>\n      <td>-79.239476</td>\n    </tr>\n    <tr>\n      <th>26</th>\n      <td>M6J</td>\n      <td>West Toronto</td>\n      <td>Little Portugal , Trinity</td>\n      <td>43.647927</td>\n      <td>-79.419750</td>\n    </tr>\n    <tr>\n      <th>27</th>\n      <td>M9B</td>\n      <td>Etobicoke</td>\n      <td>Cloverdale , Islington , Martin Grove , Prince...</td>\n      <td>43.650943</td>\n      <td>-79.554724</td>\n    </tr>\n    <tr>\n      <th>28</th>\n      <td>M6E</td>\n      <td>York</td>\n      <td>Caledonia-Fairbanks</td>\n      <td>43.689026</td>\n      <td>-79.453512</td>\n    </tr>\n    <tr>\n      <th>29</th>\n      <td>M5T</td>\n      <td>Downtown Toronto</td>\n      <td>Chinatown , Grange Park , Kensington Market</td>\n      <td>43.653206</td>\n      <td>-79.400049</td>\n    </tr>\n    <tr>\n      <th>...</th>\n      <td>...</td>\n      <td>...</td>\n      <td>...</td>\n      <td>...</td>\n      <td>...</td>\n    </tr>\n    <tr>\n      <th>73</th>\n      <td>M8W</td>\n      <td>Etobicoke</td>\n      <td>Alderwood , Long Branch</td>\n      <td>43.602414</td>\n      <td>-79.543484</td>\n    </tr>\n    <tr>\n      <th>74</th>\n      <td>M5C</td>\n      <td>Downtown Toronto</td>\n      <td>St. James Town</td>\n      <td>43.651494</td>\n      <td>-79.375418</td>\n    </tr>\n    <tr>\n      <th>75</th>\n      <td>M9A</td>\n      <td>Etobicoke</td>\n      <td>Islington Avenue</td>\n      <td>43.667856</td>\n      <td>-79.532242</td>\n    </tr>\n    <tr>\n      <th>76</th>\n      <td>M4T</td>\n      <td>Central Toronto</td>\n      <td>Moore Park , Summerhill East</td>\n      <td>43.689574</td>\n      <td>-79.383160</td>\n    </tr>\n    <tr>\n      <th>77</th>\n      <td>M9W</td>\n      <td>Etobicoke</td>\n      <td>Northwest</td>\n      <td>43.706748</td>\n      <td>-79.594054</td>\n    </tr>\n    <tr>\n      <th>78</th>\n      <td>M8X</td>\n      <td>Etobicoke</td>\n      <td>The Kingsway , Montgomery Road , Old Mill North</td>\n      <td>43.653654</td>\n      <td>-79.506944</td>\n    </tr>\n    <tr>\n      <th>79</th>\n      <td>M3L</td>\n      <td>North York</td>\n      <td>Downsview West</td>\n      <td>43.739015</td>\n      <td>-79.506944</td>\n    </tr>\n    <tr>\n      <th>80</th>\n      <td>M7A</td>\n      <td>Queen's Park</td>\n      <td>Queen's Park</td>\n      <td>43.662301</td>\n      <td>-79.389494</td>\n    </tr>\n    <tr>\n      <th>81</th>\n      <td>M5P</td>\n      <td>Central Toronto</td>\n      <td>Forest Hill North , Forest Hill West</td>\n      <td>43.696948</td>\n      <td>-79.411307</td>\n    </tr>\n    <tr>\n      <th>82</th>\n      <td>M1X</td>\n      <td>Scarborough</td>\n      <td>Upper Rouge</td>\n      <td>43.836125</td>\n      <td>-79.205636</td>\n    </tr>\n    <tr>\n      <th>83</th>\n      <td>M6P</td>\n      <td>West Toronto</td>\n      <td>High Park , The Junction South</td>\n      <td>43.661608</td>\n      <td>-79.464763</td>\n    </tr>\n    <tr>\n      <th>84</th>\n      <td>M4V</td>\n      <td>Central Toronto</td>\n      <td>Deer Park , Forest Hill SE , Rathnelly , South...</td>\n      <td>43.686412</td>\n      <td>-79.400049</td>\n    </tr>\n    <tr>\n      <th>85</th>\n      <td>M4S</td>\n      <td>Central Toronto</td>\n      <td>Davisville</td>\n      <td>43.704324</td>\n      <td>-79.388790</td>\n    </tr>\n    <tr>\n      <th>86</th>\n      <td>M1B</td>\n      <td>Scarborough</td>\n      <td>Rouge , Malvern</td>\n      <td>43.806686</td>\n      <td>-79.194353</td>\n    </tr>\n    <tr>\n      <th>87</th>\n      <td>M1P</td>\n      <td>Scarborough</td>\n      <td>Dorset Park , Scarborough Town Centre , Wexfor...</td>\n      <td>43.757410</td>\n      <td>-79.273304</td>\n    </tr>\n    <tr>\n      <th>88</th>\n      <td>M2L</td>\n      <td>North York</td>\n      <td>Silver Hills , York Mills</td>\n      <td>43.757490</td>\n      <td>-79.374714</td>\n    </tr>\n    <tr>\n      <th>89</th>\n      <td>M6R</td>\n      <td>West Toronto</td>\n      <td>Parkdale , Roncesvalles</td>\n      <td>43.648960</td>\n      <td>-79.456325</td>\n    </tr>\n    <tr>\n      <th>90</th>\n      <td>M3N</td>\n      <td>North York</td>\n      <td>Downsview Northwest</td>\n      <td>43.761631</td>\n      <td>-79.520999</td>\n    </tr>\n    <tr>\n      <th>91</th>\n      <td>M9V</td>\n      <td>Etobicoke</td>\n      <td>Albion Gardens , Beaumond Heights , Humbergate...</td>\n      <td>43.739416</td>\n      <td>-79.588437</td>\n    </tr>\n    <tr>\n      <th>92</th>\n      <td>M1T</td>\n      <td>Scarborough</td>\n      <td>Clarks Corners , Sullivan , Tam O'Shanter</td>\n      <td>43.781638</td>\n      <td>-79.304302</td>\n    </tr>\n    <tr>\n      <th>93</th>\n      <td>M3K</td>\n      <td>North York</td>\n      <td>CFB Toronto , Downsview East</td>\n      <td>43.737473</td>\n      <td>-79.464763</td>\n    </tr>\n    <tr>\n      <th>94</th>\n      <td>M1S</td>\n      <td>Scarborough</td>\n      <td>Agincourt</td>\n      <td>43.794200</td>\n      <td>-79.262029</td>\n    </tr>\n    <tr>\n      <th>95</th>\n      <td>M5W</td>\n      <td>Downtown Toronto</td>\n      <td>Stn A PO Boxes 25 The Esplanade</td>\n      <td>43.646435</td>\n      <td>-79.374846</td>\n    </tr>\n    <tr>\n      <th>96</th>\n      <td>M3C</td>\n      <td>North York</td>\n      <td>Flemingdon Park , Don Mills South</td>\n      <td>43.725900</td>\n      <td>-79.340923</td>\n    </tr>\n    <tr>\n      <th>97</th>\n      <td>M1V</td>\n      <td>Scarborough</td>\n      <td>Agincourt North , L'Amoreaux East , Milliken ,...</td>\n      <td>43.815252</td>\n      <td>-79.284577</td>\n    </tr>\n    <tr>\n      <th>98</th>\n      <td>M3J</td>\n      <td>North York</td>\n      <td>Northwood Park , York University</td>\n      <td>43.767980</td>\n      <td>-79.487262</td>\n    </tr>\n    <tr>\n      <th>99</th>\n      <td>M1K</td>\n      <td>Scarborough</td>\n      <td>East Birchmount Park , Ionview , Kennedy Park</td>\n      <td>43.727929</td>\n      <td>-79.262029</td>\n    </tr>\n    <tr>\n      <th>100</th>\n      <td>M5L</td>\n      <td>Downtown Toronto</td>\n      <td>Commerce Court , Victoria Hotel</td>\n      <td>43.648198</td>\n      <td>-79.379817</td>\n    </tr>\n    <tr>\n      <th>101</th>\n      <td>M7R</td>\n      <td>Mississauga</td>\n      <td>Canada Post Gateway Processing Centre</td>\n      <td>43.636966</td>\n      <td>-79.615819</td>\n    </tr>\n    <tr>\n      <th>102</th>\n      <td>M4X</td>\n      <td>Downtown Toronto</td>\n      <td>Cabbagetown , St. James Town</td>\n      <td>43.667967</td>\n      <td>-79.367675</td>\n    </tr>\n  </tbody>\n</table>\n<p>103 rows \u00d7 5 columns</p>\n</div>", 
                        "text/plain": "    Postcode           Borough  \\\n0        M4A        North York   \n1        M4Y  Downtown Toronto   \n2        M2J        North York   \n3        M1C       Scarborough   \n4        M7Y      East Toronto   \n5        M1L       Scarborough   \n6        M5N   Central Toronto   \n7        M6K      West Toronto   \n8        M6G  Downtown Toronto   \n9        M6N              York   \n10       M4N   Central Toronto   \n11       M9R         Etobicoke   \n12       M4G         East York   \n13       M6A        North York   \n14       M1G       Scarborough   \n15       M9N              York   \n16       M3H        North York   \n17       M5X  Downtown Toronto   \n18       M5K  Downtown Toronto   \n19       M5H  Downtown Toronto   \n20       M8Y         Etobicoke   \n21       M8V         Etobicoke   \n22       M1W       Scarborough   \n23       M1N       Scarborough   \n24       M1M       Scarborough   \n25       M1H       Scarborough   \n26       M6J      West Toronto   \n27       M9B         Etobicoke   \n28       M6E              York   \n29       M5T  Downtown Toronto   \n..       ...               ...   \n73       M8W         Etobicoke   \n74       M5C  Downtown Toronto   \n75       M9A         Etobicoke   \n76       M4T   Central Toronto   \n77       M9W         Etobicoke   \n78       M8X         Etobicoke   \n79       M3L        North York   \n80       M7A      Queen's Park   \n81       M5P   Central Toronto   \n82       M1X       Scarborough   \n83       M6P      West Toronto   \n84       M4V   Central Toronto   \n85       M4S   Central Toronto   \n86       M1B       Scarborough   \n87       M1P       Scarborough   \n88       M2L        North York   \n89       M6R      West Toronto   \n90       M3N        North York   \n91       M9V         Etobicoke   \n92       M1T       Scarborough   \n93       M3K        North York   \n94       M1S       Scarborough   \n95       M5W  Downtown Toronto   \n96       M3C        North York   \n97       M1V       Scarborough   \n98       M3J        North York   \n99       M1K       Scarborough   \n100      M5L  Downtown Toronto   \n101      M7R       Mississauga   \n102      M4X  Downtown Toronto   \n\n                                         Neighbourhood   Latitude  Longitude  \n0                                    Victoria Village   43.725882 -79.315572  \n1                                Church and Wellesley   43.665860 -79.383160  \n2                      Fairview , Henry Farm , Oriole   43.778517 -79.346556  \n3            Highland Creek , Rouge Hill , Port Union   43.784535 -79.160497  \n4    Business reply mail Processing Centre969 Eastern   43.662744 -79.321558  \n5                   Clairlea , Golden Mile , Oakridge   43.711112 -79.284577  \n6                                            Roselawn   43.711695 -79.416936  \n7      Brockton , Exhibition Place , Parkdale Village   43.636847 -79.428191  \n8                                            Christie   43.669542 -79.422564  \n9                      The Junction North , Runnymede   43.673185 -79.487262  \n10                                      Lawrence Park   43.728020 -79.388790  \n11   Kingsview Village , Martin Grove Gardens , Ric...  43.688905 -79.554724  \n12                                            Leaside   43.709060 -79.363452  \n13                  Lawrence Heights , Lawrence Manor   43.718518 -79.464763  \n14                                             Woburn   43.770992 -79.216917  \n15                                             Weston   43.706876 -79.518188  \n16   Bathurst Manor , Downsview North , Wilson Heig...  43.754328 -79.442259  \n17            First Canadian Place , Underground city   43.648429 -79.382280  \n18          Design Exchange , Toronto Dominion Centre   43.647177 -79.381576  \n19                         Adelaide , King , Richmond   43.650571 -79.384568  \n20   Humber Bay , King's Mill Park , Kingsway Park ...  43.636258 -79.498509  \n21     Humber Bay Shores , Mimico South , New Toronto   43.605647 -79.501321  \n22                     L'Amoreaux West , Steeles West   43.799525 -79.318389  \n23                       Birch Cliff , Cliffside West   43.692657 -79.264848  \n24   Cliffcrest , Cliffside , Scarborough Village W...  43.716316 -79.239476  \n25                                          Cedarbrae   43.773136 -79.239476  \n26                          Little Portugal , Trinity   43.647927 -79.419750  \n27   Cloverdale , Islington , Martin Grove , Prince...  43.650943 -79.554724  \n28                                Caledonia-Fairbanks   43.689026 -79.453512  \n29        Chinatown , Grange Park , Kensington Market   43.653206 -79.400049  \n..                                                 ...        ...        ...  \n73                            Alderwood , Long Branch   43.602414 -79.543484  \n74                                     St. James Town   43.651494 -79.375418  \n75                                   Islington Avenue   43.667856 -79.532242  \n76                       Moore Park , Summerhill East   43.689574 -79.383160  \n77                                          Northwest   43.706748 -79.594054  \n78    The Kingsway , Montgomery Road , Old Mill North   43.653654 -79.506944  \n79                                     Downsview West   43.739015 -79.506944  \n80                                        Queen's Park  43.662301 -79.389494  \n81               Forest Hill North , Forest Hill West   43.696948 -79.411307  \n82                                        Upper Rouge   43.836125 -79.205636  \n83                     High Park , The Junction South   43.661608 -79.464763  \n84   Deer Park , Forest Hill SE , Rathnelly , South...  43.686412 -79.400049  \n85                                         Davisville   43.704324 -79.388790  \n86                                    Rouge , Malvern   43.806686 -79.194353  \n87   Dorset Park , Scarborough Town Centre , Wexfor...  43.757410 -79.273304  \n88                          Silver Hills , York Mills   43.757490 -79.374714  \n89                            Parkdale , Roncesvalles   43.648960 -79.456325  \n90                                Downsview Northwest   43.761631 -79.520999  \n91   Albion Gardens , Beaumond Heights , Humbergate...  43.739416 -79.588437  \n92          Clarks Corners , Sullivan , Tam O'Shanter   43.781638 -79.304302  \n93                       CFB Toronto , Downsview East   43.737473 -79.464763  \n94                                          Agincourt   43.794200 -79.262029  \n95                    Stn A PO Boxes 25 The Esplanade   43.646435 -79.374846  \n96                  Flemingdon Park , Don Mills South   43.725900 -79.340923  \n97   Agincourt North , L'Amoreaux East , Milliken ,...  43.815252 -79.284577  \n98                   Northwood Park , York University   43.767980 -79.487262  \n99      East Birchmount Park , Ionview , Kennedy Park   43.727929 -79.262029  \n100                   Commerce Court , Victoria Hotel   43.648198 -79.379817  \n101             Canada Post Gateway Processing Centre   43.636966 -79.615819  \n102                      Cabbagetown , St. James Town   43.667967 -79.367675  \n\n[103 rows x 5 columns]"
                    }, 
                    "output_type": "execute_result"
                }
            ], 
            "source": "df_full"
        }, 
        {
            "execution_count": null, 
            "cell_type": "code", 
            "metadata": {}, 
            "outputs": [], 
            "source": ""
        }, 
        {
            "execution_count": null, 
            "cell_type": "code", 
            "metadata": {}, 
            "outputs": [], 
            "source": ""
        }, 
        {
            "execution_count": null, 
            "cell_type": "code", 
            "metadata": {}, 
            "outputs": [], 
            "source": ""
        }, 
        {
            "execution_count": null, 
            "cell_type": "code", 
            "metadata": {}, 
            "outputs": [], 
            "source": ""
        }, 
        {
            "execution_count": null, 
            "cell_type": "code", 
            "metadata": {}, 
            "outputs": [], 
            "source": ""
        }, 
        {
            "execution_count": null, 
            "cell_type": "code", 
            "metadata": {}, 
            "outputs": [], 
            "source": ""
        }, 
        {
            "execution_count": null, 
            "cell_type": "code", 
            "metadata": {}, 
            "outputs": [], 
            "source": ""
        }, 
        {
            "execution_count": null, 
            "cell_type": "code", 
            "metadata": {}, 
            "outputs": [], 
            "source": ""
        }, 
        {
            "execution_count": null, 
            "cell_type": "code", 
            "metadata": {}, 
            "outputs": [], 
            "source": ""
        }, 
        {
            "execution_count": null, 
            "cell_type": "code", 
            "metadata": {}, 
            "outputs": [], 
            "source": ""
        }, 
        {
            "execution_count": null, 
            "cell_type": "code", 
            "metadata": {}, 
            "outputs": [], 
            "source": ""
        }, 
        {
            "execution_count": null, 
            "cell_type": "code", 
            "metadata": {}, 
            "outputs": [], 
            "source": ""
        }
    ], 
    "metadata": {
        "kernelspec": {
            "display_name": "Python 3.5", 
            "name": "python3", 
            "language": "python"
        }, 
        "language_info": {
            "mimetype": "text/x-python", 
            "nbconvert_exporter": "python", 
            "version": "3.5.5", 
            "name": "python", 
            "file_extension": ".py", 
            "pygments_lexer": "ipython3", 
            "codemirror_mode": {
                "version": 3, 
                "name": "ipython"
            }
        }
    }, 
    "nbformat": 4
}